{
 "cells": [
  {
   "cell_type": "code",
   "execution_count": 1,
   "id": "d77e1678-b2aa-4664-8630-c69db4d9e39c",
   "metadata": {},
   "outputs": [],
   "source": [
    "import pandas as pd\n",
    "import numpy as np\n",
    "import matplotlib.pyplot as plt\n",
    "import seaborn as sns\n",
    "from sklearn.metrics import confusion_matrix\n",
    "\n",
    "# ignore warnings   \n",
    "import warnings\n",
    "warnings.filterwarnings('ignore')"
   ]
  },
  {
   "cell_type": "code",
   "execution_count": 2,
   "id": "5923408c-2aa4-4653-83c7-8146a492b924",
   "metadata": {},
   "outputs": [
    {
     "data": {
      "text/html": [
       "<div>\n",
       "<style scoped>\n",
       "    .dataframe tbody tr th:only-of-type {\n",
       "        vertical-align: middle;\n",
       "    }\n",
       "\n",
       "    .dataframe tbody tr th {\n",
       "        vertical-align: top;\n",
       "    }\n",
       "\n",
       "    .dataframe thead th {\n",
       "        text-align: right;\n",
       "    }\n",
       "</style>\n",
       "<table border=\"1\" class=\"dataframe\">\n",
       "  <thead>\n",
       "    <tr style=\"text-align: right;\">\n",
       "      <th></th>\n",
       "      <th>Index</th>\n",
       "      <th>message to examine</th>\n",
       "      <th>label (depression result)</th>\n",
       "    </tr>\n",
       "  </thead>\n",
       "  <tbody>\n",
       "    <tr>\n",
       "      <th>0</th>\n",
       "      <td>106</td>\n",
       "      <td>just had a real good moment. i missssssssss hi...</td>\n",
       "      <td>0</td>\n",
       "    </tr>\n",
       "    <tr>\n",
       "      <th>1</th>\n",
       "      <td>217</td>\n",
       "      <td>is reading manga  http://plurk.com/p/mzp1e</td>\n",
       "      <td>0</td>\n",
       "    </tr>\n",
       "    <tr>\n",
       "      <th>2</th>\n",
       "      <td>220</td>\n",
       "      <td>@comeagainjen http://twitpic.com/2y2lx - http:...</td>\n",
       "      <td>0</td>\n",
       "    </tr>\n",
       "    <tr>\n",
       "      <th>3</th>\n",
       "      <td>288</td>\n",
       "      <td>@lapcat Need to send 'em to my accountant tomo...</td>\n",
       "      <td>0</td>\n",
       "    </tr>\n",
       "    <tr>\n",
       "      <th>4</th>\n",
       "      <td>540</td>\n",
       "      <td>ADD ME ON MYSPACE!!!  myspace.com/LookThunder</td>\n",
       "      <td>0</td>\n",
       "    </tr>\n",
       "    <tr>\n",
       "      <th>...</th>\n",
       "      <td>...</td>\n",
       "      <td>...</td>\n",
       "      <td>...</td>\n",
       "    </tr>\n",
       "    <tr>\n",
       "      <th>95</th>\n",
       "      <td>10149</td>\n",
       "      <td>: I wish school was like those revision sessio...</td>\n",
       "      <td>0</td>\n",
       "    </tr>\n",
       "    <tr>\n",
       "      <th>96</th>\n",
       "      <td>10509</td>\n",
       "      <td>Nothin' like a good book and some spring clean...</td>\n",
       "      <td>0</td>\n",
       "    </tr>\n",
       "    <tr>\n",
       "      <th>97</th>\n",
       "      <td>10566</td>\n",
       "      <td>@kerryn8 Thanks, appreciate your feedback</td>\n",
       "      <td>0</td>\n",
       "    </tr>\n",
       "    <tr>\n",
       "      <th>98</th>\n",
       "      <td>10611</td>\n",
       "      <td>i'm listening MUSIC</td>\n",
       "      <td>0</td>\n",
       "    </tr>\n",
       "    <tr>\n",
       "      <th>99</th>\n",
       "      <td>10772</td>\n",
       "      <td>@mileycyrus hi Mileeey! my friend and I can't ...</td>\n",
       "      <td>0</td>\n",
       "    </tr>\n",
       "  </tbody>\n",
       "</table>\n",
       "<p>100 rows × 3 columns</p>\n",
       "</div>"
      ],
      "text/plain": [
       "    Index                                 message to examine  \\\n",
       "0     106  just had a real good moment. i missssssssss hi...   \n",
       "1     217         is reading manga  http://plurk.com/p/mzp1e   \n",
       "2     220  @comeagainjen http://twitpic.com/2y2lx - http:...   \n",
       "3     288  @lapcat Need to send 'em to my accountant tomo...   \n",
       "4     540      ADD ME ON MYSPACE!!!  myspace.com/LookThunder   \n",
       "..    ...                                                ...   \n",
       "95  10149  : I wish school was like those revision sessio...   \n",
       "96  10509  Nothin' like a good book and some spring clean...   \n",
       "97  10566         @kerryn8 Thanks, appreciate your feedback    \n",
       "98  10611                               i'm listening MUSIC    \n",
       "99  10772  @mileycyrus hi Mileeey! my friend and I can't ...   \n",
       "\n",
       "    label (depression result)  \n",
       "0                           0  \n",
       "1                           0  \n",
       "2                           0  \n",
       "3                           0  \n",
       "4                           0  \n",
       "..                        ...  \n",
       "95                          0  \n",
       "96                          0  \n",
       "97                          0  \n",
       "98                          0  \n",
       "99                          0  \n",
       "\n",
       "[100 rows x 3 columns]"
      ]
     },
     "execution_count": 2,
     "metadata": {},
     "output_type": "execute_result"
    }
   ],
   "source": [
    "senti_data = pd.read_csv(\"sentimentdata.csv\", encoding=\"latin-1\")\n",
    "senti_data.head(100)"
   ]
  },
  {
   "cell_type": "code",
   "execution_count": 3,
   "id": "d4e1e4c4-1383-48e0-9fce-a4278b29131e",
   "metadata": {},
   "outputs": [
    {
     "data": {
      "text/plain": [
       "Index([], dtype='object')"
      ]
     },
     "execution_count": 3,
     "metadata": {},
     "output_type": "execute_result"
    }
   ],
   "source": [
    "senti_data.columns[senti_data.isna().any()]"
   ]
  },
  {
   "cell_type": "code",
   "execution_count": 4,
   "id": "09e20e09-e1ba-4746-abe6-227243183805",
   "metadata": {},
   "outputs": [
    {
     "data": {
      "text/html": [
       "<div>\n",
       "<style scoped>\n",
       "    .dataframe tbody tr th:only-of-type {\n",
       "        vertical-align: middle;\n",
       "    }\n",
       "\n",
       "    .dataframe tbody tr th {\n",
       "        vertical-align: top;\n",
       "    }\n",
       "\n",
       "    .dataframe thead th {\n",
       "        text-align: right;\n",
       "    }\n",
       "</style>\n",
       "<table border=\"1\" class=\"dataframe\">\n",
       "  <thead>\n",
       "    <tr style=\"text-align: right;\">\n",
       "      <th></th>\n",
       "      <th>message to examine</th>\n",
       "      <th>label (depression result)</th>\n",
       "    </tr>\n",
       "  </thead>\n",
       "  <tbody>\n",
       "    <tr>\n",
       "      <th>0</th>\n",
       "      <td>just had a real good moment. i missssssssss hi...</td>\n",
       "      <td>0</td>\n",
       "    </tr>\n",
       "    <tr>\n",
       "      <th>1</th>\n",
       "      <td>is reading manga  http://plurk.com/p/mzp1e</td>\n",
       "      <td>0</td>\n",
       "    </tr>\n",
       "    <tr>\n",
       "      <th>2</th>\n",
       "      <td>@comeagainjen http://twitpic.com/2y2lx - http:...</td>\n",
       "      <td>0</td>\n",
       "    </tr>\n",
       "    <tr>\n",
       "      <th>3</th>\n",
       "      <td>@lapcat Need to send 'em to my accountant tomo...</td>\n",
       "      <td>0</td>\n",
       "    </tr>\n",
       "    <tr>\n",
       "      <th>4</th>\n",
       "      <td>ADD ME ON MYSPACE!!!  myspace.com/LookThunder</td>\n",
       "      <td>0</td>\n",
       "    </tr>\n",
       "    <tr>\n",
       "      <th>...</th>\n",
       "      <td>...</td>\n",
       "      <td>...</td>\n",
       "    </tr>\n",
       "    <tr>\n",
       "      <th>10309</th>\n",
       "      <td>No Depression by G Herbo is my mood from now o...</td>\n",
       "      <td>1</td>\n",
       "    </tr>\n",
       "    <tr>\n",
       "      <th>10310</th>\n",
       "      <td>What do you do when depression succumbs the br...</td>\n",
       "      <td>1</td>\n",
       "    </tr>\n",
       "    <tr>\n",
       "      <th>10311</th>\n",
       "      <td>Ketamine Nasal Spray Shows Promise Against Dep...</td>\n",
       "      <td>1</td>\n",
       "    </tr>\n",
       "    <tr>\n",
       "      <th>10312</th>\n",
       "      <td>dont mistake a bad day with depression! everyo...</td>\n",
       "      <td>1</td>\n",
       "    </tr>\n",
       "    <tr>\n",
       "      <th>10313</th>\n",
       "      <td>0</td>\n",
       "      <td>1</td>\n",
       "    </tr>\n",
       "  </tbody>\n",
       "</table>\n",
       "<p>10314 rows × 2 columns</p>\n",
       "</div>"
      ],
      "text/plain": [
       "                                      message to examine  \\\n",
       "0      just had a real good moment. i missssssssss hi...   \n",
       "1             is reading manga  http://plurk.com/p/mzp1e   \n",
       "2      @comeagainjen http://twitpic.com/2y2lx - http:...   \n",
       "3      @lapcat Need to send 'em to my accountant tomo...   \n",
       "4          ADD ME ON MYSPACE!!!  myspace.com/LookThunder   \n",
       "...                                                  ...   \n",
       "10309  No Depression by G Herbo is my mood from now o...   \n",
       "10310  What do you do when depression succumbs the br...   \n",
       "10311  Ketamine Nasal Spray Shows Promise Against Dep...   \n",
       "10312  dont mistake a bad day with depression! everyo...   \n",
       "10313                                                  0   \n",
       "\n",
       "       label (depression result)  \n",
       "0                              0  \n",
       "1                              0  \n",
       "2                              0  \n",
       "3                              0  \n",
       "4                              0  \n",
       "...                          ...  \n",
       "10309                          1  \n",
       "10310                          1  \n",
       "10311                          1  \n",
       "10312                          1  \n",
       "10313                          1  \n",
       "\n",
       "[10314 rows x 2 columns]"
      ]
     },
     "execution_count": 4,
     "metadata": {},
     "output_type": "execute_result"
    }
   ],
   "source": [
    "senti_data =senti_data[['message to examine','label (depression result)']]\n",
    "senti_data"
   ]
  },
  {
   "cell_type": "code",
   "execution_count": 9,
   "id": "80bf74f3-e3c7-49ac-8b16-b3c0e767215c",
   "metadata": {},
   "outputs": [
    {
     "data": {
      "text/html": [
       "<div>\n",
       "<style scoped>\n",
       "    .dataframe tbody tr th:only-of-type {\n",
       "        vertical-align: middle;\n",
       "    }\n",
       "\n",
       "    .dataframe tbody tr th {\n",
       "        vertical-align: top;\n",
       "    }\n",
       "\n",
       "    .dataframe thead th {\n",
       "        text-align: right;\n",
       "    }\n",
       "</style>\n",
       "<table border=\"1\" class=\"dataframe\">\n",
       "  <thead>\n",
       "    <tr style=\"text-align: right;\">\n",
       "      <th></th>\n",
       "      <th>message</th>\n",
       "      <th>target</th>\n",
       "    </tr>\n",
       "  </thead>\n",
       "  <tbody>\n",
       "    <tr>\n",
       "      <th>0</th>\n",
       "      <td>just had a real good moment. i missssssssss hi...</td>\n",
       "      <td>0</td>\n",
       "    </tr>\n",
       "    <tr>\n",
       "      <th>1</th>\n",
       "      <td>is reading manga  http://plurk.com/p/mzp1e</td>\n",
       "      <td>0</td>\n",
       "    </tr>\n",
       "    <tr>\n",
       "      <th>2</th>\n",
       "      <td>@comeagainjen http://twitpic.com/2y2lx - http:...</td>\n",
       "      <td>0</td>\n",
       "    </tr>\n",
       "    <tr>\n",
       "      <th>3</th>\n",
       "      <td>@lapcat Need to send 'em to my accountant tomo...</td>\n",
       "      <td>0</td>\n",
       "    </tr>\n",
       "    <tr>\n",
       "      <th>4</th>\n",
       "      <td>ADD ME ON MYSPACE!!!  myspace.com/LookThunder</td>\n",
       "      <td>0</td>\n",
       "    </tr>\n",
       "  </tbody>\n",
       "</table>\n",
       "</div>"
      ],
      "text/plain": [
       "                                             message  target\n",
       "0  just had a real good moment. i missssssssss hi...       0\n",
       "1         is reading manga  http://plurk.com/p/mzp1e       0\n",
       "2  @comeagainjen http://twitpic.com/2y2lx - http:...       0\n",
       "3  @lapcat Need to send 'em to my accountant tomo...       0\n",
       "4      ADD ME ON MYSPACE!!!  myspace.com/LookThunder       0"
      ]
     },
     "execution_count": 9,
     "metadata": {},
     "output_type": "execute_result"
    }
   ],
   "source": [
    "# Change columns name and change target values\n",
    "\n",
    "senti_data.rename(columns = {'label (depression result)': 'target', \n",
    "                            'message to examine': 'message'}, \n",
    "                inplace = True)\n",
    "\n",
    "senti_data.head()"
   ]
  },
  {
   "cell_type": "code",
   "execution_count": 11,
   "id": "252f71ba-431c-46a8-badf-08b1b91362cd",
   "metadata": {},
   "outputs": [],
   "source": [
    "# Split data into training and testing sets \n",
    "from sklearn.model_selection import train_test_split\n",
    "from sklearn.feature_extraction.text import CountVectorizer \n",
    "from sklearn.linear_model import LogisticRegression\n",
    "X_train, X_test, Y_train, Y_test = train_test_split(senti_data.message, senti_data.target,test_size=0.3, random_state=0)"
   ]
  },
  {
   "cell_type": "code",
   "execution_count": 15,
   "id": "8a028108-4586-42fc-a3a2-7a9efc805092",
   "metadata": {},
   "outputs": [],
   "source": [
    "from sklearn.preprocessing import LabelEncoder\n",
    "label_encoder = LabelEncoder() \n",
    "senti_data['target'] = label_encoder.fit_transform(senti_data['target'])"
   ]
  },
  {
   "cell_type": "code",
   "execution_count": 17,
   "id": "a42ccff8-ce69-431f-a72a-d59148fc644b",
   "metadata": {},
   "outputs": [],
   "source": [
    "# Initialise Count Vectorizer"
   ]
  },
  {
   "cell_type": "code",
   "execution_count": 18,
   "id": "d1e8d37e-a92d-4a4e-9be7-20115d44e9a3",
   "metadata": {},
   "outputs": [],
   "source": [
    "vectorizer = CountVectorizer(ngram_range=(1, 2)).fit(X_train)\n",
    "X_train_vectorized = vectorizer.transform(X_train)\n",
    "X_test_vectorized = vectorizer.transform(X_test)"
   ]
  },
  {
   "cell_type": "code",
   "execution_count": 20,
   "id": "4e32d01a-03e0-44e7-a4f7-114339069619",
   "metadata": {},
   "outputs": [
    {
     "data": {
      "text/html": [
       "<div>\n",
       "<style scoped>\n",
       "    .dataframe tbody tr th:only-of-type {\n",
       "        vertical-align: middle;\n",
       "    }\n",
       "\n",
       "    .dataframe tbody tr th {\n",
       "        vertical-align: top;\n",
       "    }\n",
       "\n",
       "    .dataframe thead th {\n",
       "        text-align: right;\n",
       "    }\n",
       "</style>\n",
       "<table border=\"1\" class=\"dataframe\">\n",
       "  <thead>\n",
       "    <tr style=\"text-align: right;\">\n",
       "      <th></th>\n",
       "      <th>message</th>\n",
       "      <th>target</th>\n",
       "    </tr>\n",
       "  </thead>\n",
       "  <tbody>\n",
       "    <tr>\n",
       "      <th>0</th>\n",
       "      <td>just had a real good moment. i missssssssss hi...</td>\n",
       "      <td>0</td>\n",
       "    </tr>\n",
       "    <tr>\n",
       "      <th>1</th>\n",
       "      <td>is reading manga  http://plurk.com/p/mzp1e</td>\n",
       "      <td>0</td>\n",
       "    </tr>\n",
       "    <tr>\n",
       "      <th>2</th>\n",
       "      <td>@comeagainjen http://twitpic.com/2y2lx - http:...</td>\n",
       "      <td>0</td>\n",
       "    </tr>\n",
       "    <tr>\n",
       "      <th>3</th>\n",
       "      <td>@lapcat Need to send 'em to my accountant tomo...</td>\n",
       "      <td>0</td>\n",
       "    </tr>\n",
       "    <tr>\n",
       "      <th>4</th>\n",
       "      <td>ADD ME ON MYSPACE!!!  myspace.com/LookThunder</td>\n",
       "      <td>0</td>\n",
       "    </tr>\n",
       "  </tbody>\n",
       "</table>\n",
       "</div>"
      ],
      "text/plain": [
       "                                             message  target\n",
       "0  just had a real good moment. i missssssssss hi...       0\n",
       "1         is reading manga  http://plurk.com/p/mzp1e       0\n",
       "2  @comeagainjen http://twitpic.com/2y2lx - http:...       0\n",
       "3  @lapcat Need to send 'em to my accountant tomo...       0\n",
       "4      ADD ME ON MYSPACE!!!  myspace.com/LookThunder       0"
      ]
     },
     "execution_count": 20,
     "metadata": {},
     "output_type": "execute_result"
    }
   ],
   "source": [
    "senti_data.head()"
   ]
  },
  {
   "cell_type": "code",
   "execution_count": 22,
   "id": "c4e9dbe4-2794-4eba-a6c7-e46933c4b3b4",
   "metadata": {},
   "outputs": [
    {
     "name": "stdout",
     "output_type": "stream",
     "text": [
      "in a foursome with anxiety, stress and depression\n"
     ]
    }
   ],
   "source": [
    "print(senti_data.iloc[8566]['message'])"
   ]
  },
  {
   "cell_type": "code",
   "execution_count": 24,
   "id": "142b173d-4745-41cc-a32a-c4ba9f829359",
   "metadata": {},
   "outputs": [],
   "source": [
    "import numpy as np\n",
    "from sklearn.svm import LinearSVC\n",
    "from sklearn.metrics import accuracy_score, precision_score, recall_score, f1_score"
   ]
  },
  {
   "cell_type": "markdown",
   "id": "10ad2afb-c54c-4a26-b08d-0eab6a03278d",
   "metadata": {},
   "source": [
    "1. Logistic Regression model"
   ]
  },
  {
   "cell_type": "code",
   "execution_count": 28,
   "id": "b837c1ba-78bc-42d2-a6bb-f43390cf4417",
   "metadata": {},
   "outputs": [],
   "source": [
    "# 1. Train the model\n",
    "lr_model = LogisticRegression()\n",
    "\n",
    "lr_model.fit(X_train_vectorized, Y_train) \n",
    "# 2. Make prediction \n",
    "y_lr_model_predict = lr_model.predict(X_test_vectorized)"
   ]
  },
  {
   "cell_type": "code",
   "execution_count": 30,
   "id": "e5885388-a51c-4f10-a2ed-124a4d07eb75",
   "metadata": {},
   "outputs": [
    {
     "name": "stdout",
     "output_type": "stream",
     "text": [
      "Logistic Regression:\n",
      "Accuracy: 0.9974151857835218\n",
      "Precision: 1.0\n",
      "Recall: 0.9885386819484241\n",
      "F1 score: 0.9942363112391931\n"
     ]
    }
   ],
   "source": [
    "# 3. Evaluate the model\n",
    "print('Logistic Regression:')\n",
    "print('Accuracy:', accuracy_score(Y_test, y_lr_model_predict)) \n",
    "print('Precision:', precision_score(Y_test, y_lr_model_predict)) \n",
    "print('Recall:', recall_score(Y_test, y_lr_model_predict)) \n",
    "print('F1 score:', f1_score(Y_test, y_lr_model_predict))"
   ]
  },
  {
   "cell_type": "markdown",
   "id": "4099ef8f-07f0-48f7-8c0d-cbe33e890c61",
   "metadata": {},
   "source": [
    "2.LINEAR SVM MODEL"
   ]
  },
  {
   "cell_type": "code",
   "execution_count": 33,
   "id": "20bf3fb7-8874-4564-a174-b407ee98dcac",
   "metadata": {},
   "outputs": [],
   "source": [
    "svm_model = LinearSVC() \n",
    "svm_model.fit(X_train_vectorized, Y_train) \n",
    "y_svm_model_predict = svm_model.predict(X_test_vectorized)"
   ]
  },
  {
   "cell_type": "code",
   "execution_count": 35,
   "id": "8c2c336e-fde2-4cb1-9685-c8930f459b91",
   "metadata": {},
   "outputs": [
    {
     "name": "stdout",
     "output_type": "stream",
     "text": [
      "\n",
      "SVM:\n",
      "Accuracy: 0.9974151857835218\n",
      "Precision: 1.0\n",
      "Recall: 0.9885386819484241\n",
      "F1 score: 0.9942363112391931\n"
     ]
    }
   ],
   "source": [
    "# Evaluate the model\n",
    "print('\\nSVM:') \n",
    "print('Accuracy:', accuracy_score(Y_test, y_svm_model_predict)) \n",
    "print('Precision:', precision_score(Y_test, y_svm_model_predict)) \n",
    "print('Recall:', recall_score(Y_test, y_svm_model_predict)) \n",
    "print('F1 score:', f1_score(Y_test, y_svm_model_predict))"
   ]
  },
  {
   "cell_type": "markdown",
   "id": "ee4188ca-f746-4a16-a560-f33610947dde",
   "metadata": {},
   "source": [
    "3. ADABOOST CLASSIFIER"
   ]
  },
  {
   "cell_type": "code",
   "execution_count": 38,
   "id": "07b3f5e9-b6bb-456d-8a0f-9c89397e6278",
   "metadata": {},
   "outputs": [],
   "source": [
    "from sklearn.ensemble import AdaBoostClassifier"
   ]
  },
  {
   "cell_type": "code",
   "execution_count": 40,
   "id": "411a685c-9a1f-4ac4-b68b-94460b68c043",
   "metadata": {},
   "outputs": [],
   "source": [
    "adaboost = AdaBoostClassifier(n_estimators = 500, learning_rate = 0.3,random_state = 1)    #n_estimators: no of weak learners that we assign (here its 50).\n",
    "adaboost.fit(X_train_vectorized,Y_train)\n",
    "y_pred = adaboost.predict(X_test_vectorized)"
   ]
  },
  {
   "cell_type": "code",
   "execution_count": 41,
   "id": "af56cda1-ecc7-44f0-a33a-320cea98e1cd",
   "metadata": {},
   "outputs": [
    {
     "name": "stdout",
     "output_type": "stream",
     "text": [
      "\n",
      "Adaboost:\n",
      "Accuracy: 0.999861476658817\n",
      "Precision: 0.9985569985569985\n",
      "Recall: 0.9914040114613181\n",
      "F1 score: 0.9949676491732566\n"
     ]
    }
   ],
   "source": [
    "print('\\nAdaboost:') \n",
    "print('Accuracy:', adaboost.score(X_train_vectorized,Y_train))\n",
    "print('Precision:', precision_score(Y_test,y_pred)) \n",
    "print('Recall:', recall_score(Y_test, y_pred)) \n",
    "print('F1 score:', f1_score(Y_test, y_pred))"
   ]
  },
  {
   "cell_type": "markdown",
   "id": "63a08586-5115-433c-a727-22926d5f4825",
   "metadata": {},
   "source": [
    "CONCLUSION\n",
    "\n",
    "ADABOOST CLASSIFIER GIVES THE BEST ACCURACY COMPARED TO LOGISTIC REGRESSION AND SUPPORT VECTOR CLASSIFIER"
   ]
  },
  {
   "cell_type": "code",
   "execution_count": 45,
   "id": "dbb1fe2e-02c5-4a47-bedd-ff31ce86aad8",
   "metadata": {},
   "outputs": [],
   "source": [
    "cm=confusion_matrix(Y_test,y_pred)"
   ]
  },
  {
   "cell_type": "code",
   "execution_count": 47,
   "id": "78129425-4bd4-4bfa-98b1-591523ab98ee",
   "metadata": {},
   "outputs": [
    {
     "data": {
      "image/png": "[encoded data removed]",
      "text/plain": [
       "<Figure size 600x400 with 2 Axes>"
      ]
     },
     "metadata": {},
     "output_type": "display_data"
    }
   ],
   "source": [
    "plt.figure(figsize=(6,4))\n",
    "sns.heatmap(cm, annot=True, fmt='d', cmap='Blues', xticklabels=['Not Depressed','Depressed'], yticklabels=['Not Depressed','Depressed'])\n",
    "plt.title('Confusion Matrix')\n",
    "plt.xlabel('Predicted')\n",
    "plt.ylabel('Actual')\n",
    "plt.show()"
   ]
  },
  {
   "cell_type": "markdown",
   "id": "08b728e0-b602-4d88-86e2-c93d3fbc312f",
   "metadata": {},
   "source": [
    "SAVE THE FILE IN PICKLE"
   ]
  },
  {
   "cell_type": "code",
   "execution_count": 50,
   "id": "0d679559-8274-474e-82c6-1d117c482334",
   "metadata": {},
   "outputs": [],
   "source": [
    "import joblib"
   ]
  },
  {
   "cell_type": "code",
   "execution_count": 52,
   "id": "9d8fe169-4d93-47ed-97d8-3e9b1e77d0ca",
   "metadata": {},
   "outputs": [],
   "source": [
    "import pickle\n",
    "import os\n",
    "\n",
    "model_file_name = \"adaboost_best_model.pkl\"\n",
    "model_folder = \"./models/\"\n",
    "\n",
    "# Create the directory if it doesn't exist\n",
    "os.makedirs(model_folder, exist_ok=True)\n",
    "\n",
    "# Save the model using pickle\n",
    "with open(os.path.join(model_folder, model_file_name), 'wb') as file:\n",
    "    pickle.dump(adaboost, file)"
   ]
  },
  {
   "cell_type": "code",
   "execution_count": 54,
   "id": "49f6b44d-8636-44c2-9e11-0880062342e4",
   "metadata": {},
   "outputs": [],
   "source": [
    "# 2. Load the model\n",
    "# Load the model using pickle\n",
    "with open(os.path.join(model_folder, model_file_name), 'rb') as file:\n",
    "    loaded_ada_model = pickle.load(file)"
   ]
  },
  {
   "cell_type": "code",
   "execution_count": 56,
   "id": "89139d27-807f-4801-b407-430920ca3797",
   "metadata": {},
   "outputs": [],
   "source": [
    "vectorizer_file_name = \"count_vectorizer_.pkl\"\n",
    "\n",
    "with open(os.path.join(model_folder, vectorizer_file_name), 'wb') as file:\n",
    "    pickle.dump(vectorizer, file)"
   ]
  },
  {
   "cell_type": "code",
   "execution_count": 58,
   "id": "eafc4554-c4ba-4b7b-921c-473a2f2158b1",
   "metadata": {},
   "outputs": [],
   "source": [
    "# Load the vectorizer\n",
    "with open(os.path.join(model_folder, vectorizer_file_name), 'rb') as file:\n",
    "    cv = pickle.load(file)\n"
   ]
  },
  {
   "cell_type": "code",
   "execution_count": 60,
   "id": "b07326ad-97a3-4530-bc6f-60f033acf847",
   "metadata": {},
   "outputs": [
    {
     "name": "stdout",
     "output_type": "stream",
     "text": [
      "This person is - Depressed\n"
     ]
    }
   ],
   "source": [
    "def make_prediction(input_text):\n",
    "    # Transform the input text\n",
    "    preprocessed_text = cv.transform([input_text])\n",
    "\n",
    "    # Make prediction using the loaded SVM model\n",
    "    prediction = loaded_ada_model.predict(preprocessed_text)\n",
    "\n",
    "    info = '' \n",
    "    if prediction[0] == 0:\n",
    "        info = \"Not Depressed\"\n",
    "    else:\n",
    "        info = \"Depressed\"\n",
    "    \n",
    "    final_info = \"This person is - {}\".format(info)\n",
    "    \n",
    "    return final_info\n",
    "\n",
    "# Example text for prediction\n",
    "text_example = \" Depression  https://twitter.com/cyn_santana/st...\"\n",
    "print(make_prediction(text_example))"
   ]
  },
  {
   "cell_type": "code",
   "execution_count": 62,
   "id": "ee259068-0e92-49da-98d4-5401670cedbb",
   "metadata": {},
   "outputs": [
    {
     "name": "stdout",
     "output_type": "stream",
     "text": [
      "1\n"
     ]
    }
   ],
   "source": [
    "print(senti_data.iloc[9292]['target'])"
   ]
  },
  {
   "cell_type": "code",
   "execution_count": null,
   "id": "4d3eecdb-6b29-48a1-8ac1-dadc8d3cf50d",
   "metadata": {},
   "outputs": [],
   "source": []
  }
 ],
 "metadata": {
  "kernelspec": {
   "display_name": "Python 3 (ipykernel)",
   "language": "python",
   "name": "python3"
  },
  "language_info": {
   "codemirror_mode": {
    "name": "ipython",
    "version": 3
   },
   "file_extension": ".py",
   "mimetype": "text/x-python",
   "name": "python",
   "nbconvert_exporter": "python",
   "pygments_lexer": "ipython3",
   "version": "3.12.4"
  }
 },
 "nbformat": 4,
 "nbformat_minor": 5
}
